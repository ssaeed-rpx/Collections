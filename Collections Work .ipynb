{
 "cells": [
  {
   "cell_type": "code",
   "execution_count": 55,
   "metadata": {
    "ExecuteTime": {
     "end_time": "2019-04-15T20:20:07.980608Z",
     "start_time": "2019-04-15T20:20:07.969543Z"
    }
   },
   "outputs": [],
   "source": [
    "#import nltk # please download wordnet and stopwords if not already downloaded \n",
    "\n",
    "import nltk # please download wordnet and stopwords if not already downloaded \n",
    "\n",
    "import pandas as pd\n",
    "import numpy as np\n",
    "\n",
    "from nltk.corpus import wordnet\n",
    "from nltk.corpus import stopwords\n",
    "\n",
    "from nltk.stem.snowball import SnowballStemmer\n",
    "from nltk.stem.wordnet import WordNetLemmatizer\n",
    "from nltk.stem.lancaster import LancasterStemmer\n",
    "\n",
    "\n",
    "from sklearn.model_selection import train_test_split\n",
    "from sklearn.model_selection import cross_val_score\n",
    "\n",
    "from sklearn.feature_extraction.text import CountVectorizer\n",
    "from sklearn.feature_extraction.text import TfidfTransformer\n",
    "from sklearn.decomposition import LatentDirichletAllocation\n",
    "from sklearn.decomposition import NMF\n",
    "\n",
    "from sklearn.naive_bayes import MultinomialNB, BernoulliNB\n",
    "from xgboost import XGBClassifier\n",
    "from sklearn.linear_model import LogisticRegression\n",
    "from sklearn.linear_model import SGDClassifier\n",
    "from sklearn.neighbors import KNeighborsClassifier\n",
    "from sklearn.ensemble import ExtraTreesClassifier\n",
    "from sklearn.ensemble import RandomForestClassifier\n",
    "from sklearn.neural_network import MLPClassifier\n",
    "from sklearn.svm import LinearSVC\n",
    "from sklearn.svm import SVC\n",
    "from sklearn.decomposition import NMF\n",
    "from sklearn.model_selection import GridSearchCV\n",
    "from sklearn.pipeline import Pipeline\n",
    "from sklearn import preprocessing\n",
    "le = preprocessing.LabelEncoder()\n",
    "\n",
    "from matplotlib import pyplot as plt \n",
    "from pylab import xticks\n",
    "import numpy as np\n",
    "import matplotlib.ticker as ticker\n",
    "from sklearn.metrics import f1_score,precision_score,recall_score,roc_auc_score\n",
    "import pickle\n",
    "import time"
   ]
  },
  {
   "cell_type": "code",
   "execution_count": 56,
   "metadata": {
    "ExecuteTime": {
     "end_time": "2019-04-15T20:20:08.410705Z",
     "start_time": "2019-04-15T20:20:07.984082Z"
    }
   },
   "outputs": [],
   "source": [
    "df=pd.read_csv('japan_armrvr_final2.csv')"
   ]
  },
  {
   "cell_type": "code",
   "execution_count": 57,
   "metadata": {
    "ExecuteTime": {
     "end_time": "2019-04-15T20:20:08.417942Z",
     "start_time": "2019-04-15T20:20:08.413149Z"
    }
   },
   "outputs": [
    {
     "data": {
      "text/plain": [
       "Index(['patnum', 'clustered_patnum', 'country_code', 'stripped_patnum',\n",
       "       'pat_id', 'title', 'abstract', 'final_category'],\n",
       "      dtype='object')"
      ]
     },
     "execution_count": 57,
     "metadata": {},
     "output_type": "execute_result"
    }
   ],
   "source": [
    "df.columns"
   ]
  },
  {
   "cell_type": "code",
   "execution_count": 58,
   "metadata": {
    "ExecuteTime": {
     "end_time": "2019-04-15T20:20:08.435290Z",
     "start_time": "2019-04-15T20:20:08.421212Z"
    }
   },
   "outputs": [],
   "source": [
    "df['final_category_labels']=le.fit_transform(df.final_category)"
   ]
  },
  {
   "cell_type": "code",
   "execution_count": 59,
   "metadata": {
    "ExecuteTime": {
     "end_time": "2019-04-15T20:20:09.132418Z",
     "start_time": "2019-04-15T20:20:08.437605Z"
    }
   },
   "outputs": [],
   "source": [
    "def g(row):\n",
    "    \n",
    "    if row['final_category']=='Haptics':\n",
    "        \n",
    "        val=1\n",
    "    \n",
    "    else:\n",
    "        val=0\n",
    "    \n",
    "    \n",
    "    return val\n",
    "\n",
    "df['labels']=df.apply(g,axis=1)"
   ]
  },
  {
   "cell_type": "code",
   "execution_count": 60,
   "metadata": {
    "ExecuteTime": {
     "end_time": "2019-04-15T20:20:09.149788Z",
     "start_time": "2019-04-15T20:20:09.134866Z"
    }
   },
   "outputs": [
    {
     "data": {
      "text/html": [
       "<div>\n",
       "<style scoped>\n",
       "    .dataframe tbody tr th:only-of-type {\n",
       "        vertical-align: middle;\n",
       "    }\n",
       "\n",
       "    .dataframe tbody tr th {\n",
       "        vertical-align: top;\n",
       "    }\n",
       "\n",
       "    .dataframe thead th {\n",
       "        text-align: right;\n",
       "    }\n",
       "</style>\n",
       "<table border=\"1\" class=\"dataframe\">\n",
       "  <thead>\n",
       "    <tr style=\"text-align: right;\">\n",
       "      <th></th>\n",
       "      <th>encoding</th>\n",
       "      <th>labels</th>\n",
       "    </tr>\n",
       "  </thead>\n",
       "  <tbody>\n",
       "    <tr>\n",
       "      <th>6</th>\n",
       "      <td>0</td>\n",
       "      <td>Advertising</td>\n",
       "    </tr>\n",
       "    <tr>\n",
       "      <th>12</th>\n",
       "      <td>1</td>\n",
       "      <td>Audio</td>\n",
       "    </tr>\n",
       "    <tr>\n",
       "      <th>9</th>\n",
       "      <td>2</td>\n",
       "      <td>Authentication</td>\n",
       "    </tr>\n",
       "    <tr>\n",
       "      <th>8</th>\n",
       "      <td>3</td>\n",
       "      <td>Battery</td>\n",
       "    </tr>\n",
       "    <tr>\n",
       "      <th>2</th>\n",
       "      <td>4</td>\n",
       "      <td>Eye Tracking</td>\n",
       "    </tr>\n",
       "    <tr>\n",
       "      <th>3</th>\n",
       "      <td>5</td>\n",
       "      <td>Fitness/Health</td>\n",
       "    </tr>\n",
       "    <tr>\n",
       "      <th>4</th>\n",
       "      <td>6</td>\n",
       "      <td>Gaming</td>\n",
       "    </tr>\n",
       "    <tr>\n",
       "      <th>0</th>\n",
       "      <td>7</td>\n",
       "      <td>Gesture/Motion Tracking</td>\n",
       "    </tr>\n",
       "    <tr>\n",
       "      <th>5</th>\n",
       "      <td>8</td>\n",
       "      <td>Haptics</td>\n",
       "    </tr>\n",
       "    <tr>\n",
       "      <th>7</th>\n",
       "      <td>9</td>\n",
       "      <td>Location based services</td>\n",
       "    </tr>\n",
       "    <tr>\n",
       "      <th>11</th>\n",
       "      <td>10</td>\n",
       "      <td>Networking</td>\n",
       "    </tr>\n",
       "    <tr>\n",
       "      <th>13</th>\n",
       "      <td>11</td>\n",
       "      <td>Social Networking</td>\n",
       "    </tr>\n",
       "    <tr>\n",
       "      <th>1</th>\n",
       "      <td>12</td>\n",
       "      <td>Visualization</td>\n",
       "    </tr>\n",
       "    <tr>\n",
       "      <th>10</th>\n",
       "      <td>13</td>\n",
       "      <td>Wearables</td>\n",
       "    </tr>\n",
       "  </tbody>\n",
       "</table>\n",
       "</div>"
      ],
      "text/plain": [
       "    encoding                   labels\n",
       "6          0              Advertising\n",
       "12         1                    Audio\n",
       "9          2           Authentication\n",
       "8          3                  Battery\n",
       "2          4             Eye Tracking\n",
       "3          5           Fitness/Health\n",
       "4          6                   Gaming\n",
       "0          7  Gesture/Motion Tracking\n",
       "5          8                  Haptics\n",
       "7          9  Location based services\n",
       "11        10               Networking\n",
       "13        11        Social Networking\n",
       "1         12            Visualization\n",
       "10        13                Wearables"
      ]
     },
     "execution_count": 60,
     "metadata": {},
     "output_type": "execute_result"
    }
   ],
   "source": [
    "p=pd.DataFrame()\n",
    "p['encoding']=df.final_category_labels.unique()\n",
    "p['labels']=le.inverse_transform(df.final_category_labels.unique())\n",
    "p.sort_values(['encoding'])"
   ]
  },
  {
   "cell_type": "code",
   "execution_count": 61,
   "metadata": {
    "ExecuteTime": {
     "end_time": "2019-04-15T20:20:09.221971Z",
     "start_time": "2019-04-15T20:20:09.151717Z"
    }
   },
   "outputs": [],
   "source": [
    "df['all_text']=df['title'].map(str)+' '+df['abstract'].map(str)"
   ]
  },
  {
   "cell_type": "code",
   "execution_count": 62,
   "metadata": {
    "ExecuteTime": {
     "end_time": "2019-04-15T20:20:09.228098Z",
     "start_time": "2019-04-15T20:20:09.224855Z"
    }
   },
   "outputs": [],
   "source": [
    "# # #Using regex to clean the incoming corpus \n",
    "\n",
    "# #df=pd.read_csv('all_claims_with_direction.csv',index_col=0)\n",
    "\n",
    "\n",
    "# # df=pd.read_csv('/Users/ssaeed/Documents/all_claims_edited_0204.csv',encoding='latin1')\n",
    "\n",
    "# import re\n",
    "\n",
    "# def split_it(line):\n",
    "    \n",
    "#     line2=re.sub('\\b\\w{1,3}\\b|<.*?>|((\\d+)[\\.])|\\((.+?)\\)|[0-9]+',\"\",str(line))\n",
    "    \n",
    "#     return line2\n",
    "\n",
    "# df['all_text']=df['all_text'].apply(split_it)\n",
    "\n",
    "# df.drop_duplicates(subset=None, keep='first', inplace=False)"
   ]
  },
  {
   "cell_type": "code",
   "execution_count": 63,
   "metadata": {
    "ExecuteTime": {
     "end_time": "2019-04-15T20:20:09.243440Z",
     "start_time": "2019-04-15T20:20:09.234200Z"
    }
   },
   "outputs": [],
   "source": [
    "#Stemming and Lemmatization\n",
    "\n",
    "stemmer = SnowballStemmer(\"english\", ignore_stopwords=True)\n",
    "lemmer=LancasterStemmer()\n",
    "lemma=WordNetLemmatizer()\n",
    "\n",
    "\n",
    "class LemmaCountVectorizer(CountVectorizer):\n",
    "    def build_analyzer(self):\n",
    "        analyzer = super(LemmaCountVectorizer, self).build_analyzer()\n",
    "        return lambda doc: ([lemma.lemmatize(w) for w in analyzer(doc)]) \n",
    "\n",
    "class StemmedCountVectorizer(CountVectorizer):\n",
    "    def build_analyzer(self):\n",
    "        analyzer = super(StemmedCountVectorizer, self).build_analyzer()\n",
    "        return lambda doc: ([stemmer.stem(w) for w in analyzer(doc)])\n",
    "\n",
    "SCV = StemmedCountVectorizer(ngram_range=(1,2),stop_words='english',max_df=0.2,min_df=2)\n",
    "\n",
    "LCV=LemmaCountVectorizer(stop_words='english',ngram_range=(1,2),max_features=4000,max_df=0.2,min_df=3)"
   ]
  },
  {
   "cell_type": "code",
   "execution_count": 105,
   "metadata": {
    "ExecuteTime": {
     "end_time": "2019-04-16T10:21:44.289135Z",
     "start_time": "2019-04-16T10:21:43.819580Z"
    }
   },
   "outputs": [
    {
     "name": "stdout",
     "output_type": "stream",
     "text": [
      "Training set has 26187 samples.\n",
      "Testing set has 17458 samples.\n"
     ]
    }
   ],
   "source": [
    "# Import train_test_split\n",
    "from sklearn.model_selection import train_test_split\n",
    "\n",
    "# Split the 'features' and 'income' data into training and testing sets\n",
    "#claim_tr, claim_tst, label_tr, label_tst = train_test_split(claims, labels, test_size = 0.2, random_state = 0)\n",
    "\n",
    "train,test = train_test_split(df,test_size = 0.4, random_state = 0)\n",
    "\n",
    "\n",
    "# Show the results of the split\n",
    "print (\"Training set has {} samples.\".format(train.shape[0]))\n",
    "print (\"Testing set has {} samples.\".format(test.shape[0]))"
   ]
  },
  {
   "cell_type": "code",
   "execution_count": 106,
   "metadata": {
    "ExecuteTime": {
     "end_time": "2019-04-16T10:21:47.138297Z",
     "start_time": "2019-04-16T10:21:47.127820Z"
    }
   },
   "outputs": [
    {
     "name": "stdout",
     "output_type": "stream",
     "text": [
      "820 548\n"
     ]
    }
   ],
   "source": [
    "print(train.labels.sum(),test.labels.sum())"
   ]
  },
  {
   "cell_type": "code",
   "execution_count": 107,
   "metadata": {
    "ExecuteTime": {
     "end_time": "2019-04-16T10:21:51.551611Z",
     "start_time": "2019-04-16T10:21:51.430310Z"
    }
   },
   "outputs": [],
   "source": [
    "from sklearn.utils import resample\n",
    "\n",
    "nhap=test[test.labels==0]\n",
    "hap=test[test.labels==1]\n",
    "\n",
    "hap=resample(hap,replace=True,n_samples=len(nhap),random_state=12)\n",
    "\n",
    "full=pd.concat([hap,nhap])\n",
    "\n",
    "claim_tst=full['all_text']\n",
    "label_tst=full['labels']\n",
    "\n",
    "nhap=train[train.labels==0]\n",
    "hap=train[train.labels==1]\n",
    "\n",
    "hap=resample(hap,replace=True,n_samples=len(nhap),random_state=12)\n",
    "\n",
    "full=pd.concat([hap,nhap])\n",
    "\n",
    "claim_tr=full['all_text']\n",
    "label_tr=full['labels']"
   ]
  },
  {
   "cell_type": "code",
   "execution_count": 67,
   "metadata": {
    "ExecuteTime": {
     "end_time": "2019-04-15T20:20:09.409570Z",
     "start_time": "2019-04-15T20:20:09.405837Z"
    }
   },
   "outputs": [],
   "source": [
    "# claim_tr=train['all_text']\n",
    "# label_tr=train['labels']\n",
    "# claim_tst=test['all_text']\n",
    "# label_tst=test['labels']"
   ]
  },
  {
   "cell_type": "code",
   "execution_count": 68,
   "metadata": {
    "ExecuteTime": {
     "end_time": "2019-04-15T20:21:57.924855Z",
     "start_time": "2019-04-15T20:20:09.412368Z"
    }
   },
   "outputs": [
    {
     "name": "stderr",
     "output_type": "stream",
     "text": [
      "/Library/Frameworks/Python.framework/Versions/3.6/lib/python3.6/site-packages/sklearn/linear_model/logistic.py:433: FutureWarning: Default solver will be changed to 'lbfgs' in 0.22. Specify a solver to silence this warning.\n",
      "  FutureWarning)\n"
     ]
    },
    {
     "name": "stdout",
     "output_type": "stream",
     "text": [
      "F1: 0.946\n",
      "Precision: 0.961\n",
      "Recall: 0.932\n",
      "ROC SCORE= 0.984\n"
     ]
    }
   ],
   "source": [
    "import re\n",
    "\n",
    "def words_and_char_bigrams(text):\n",
    "    words = re.findall(r'\\w{4,18}', text)\n",
    "    for w in words:\n",
    "        yield w.lower()\n",
    "\n",
    "LCV=LemmaCountVectorizer(stop_words='english',ngram_range=(1,2),max_df=0.6,min_df=3,max_features=8000)\n",
    "\n",
    "\n",
    "#transformer = Pipeline([('vectorizer', LCV), ('tfidf', TfidfTransformer(norm='l2',use_idf=True,smooth_idf=True))])\n",
    "\n",
    "text_ensemble_lemmatized = Pipeline([('vectorizer', LCV), ('tfidf', TfidfTransformer(norm='l2',use_idf=True,smooth_idf=True)),\n",
    "                                     ('lr',LogisticRegression(C=0.015,penalty='l2',class_weight={0:1,1:1}))])\n",
    "\n",
    "text_ensemble_lemmatized.fit(claim_tr,label_tr)\n",
    "predicted=text_ensemble_lemmatized.predict(claim_tst)\n",
    "#predicted2=text_ensemble_lemmatized.predict(claim)\n",
    "#predicted3=text_ensemble_lemmatized.predict_proba(claims)[:,1]\n",
    "predicted4=text_ensemble_lemmatized.predict_proba(claim_tst)[:,1]\n",
    "predicted6=text_ensemble_lemmatized.predict_proba(claim_tst)\n",
    "\n",
    "from sklearn.metrics import f1_score,precision_score,recall_score\n",
    "\n",
    "print(\"F1:\",round(f1_score(label_tst,predicted,average='binary'),3))\n",
    "print(\"Precision:\",round(precision_score(label_tst,predicted,average='binary'),3))\n",
    "print(\"Recall:\",round(recall_score(label_tst,predicted,average='binary'),3))\n",
    "print(\"ROC SCORE=\",round(roc_auc_score(label_tst,predicted4),3))"
   ]
  },
  {
   "cell_type": "code",
   "execution_count": 69,
   "metadata": {
    "ExecuteTime": {
     "end_time": "2019-04-15T20:21:57.931389Z",
     "start_time": "2019-04-15T20:21:57.927070Z"
    }
   },
   "outputs": [],
   "source": [
    "# %%time \n",
    "\n",
    "# import re\n",
    "\n",
    "# def words_and_char_bigrams(text):\n",
    "#     words = re.findall(r'\\w{4,18}', text)\n",
    "#     for w in words:\n",
    "#         yield w.lower()\n",
    "\n",
    "# LCV=LemmaCountVectorizer(stop_words='english',ngram_range=(1,3),max_df=0.8,min_df=3,max_features=4000)\n",
    "\n",
    "\n",
    "# #transformer = Pipeline([('vectorizer', LCV), ('tfidf', TfidfTransformer(norm='l2',use_idf=True,smooth_idf=True))])\n",
    "\n",
    "# text_ensemble_lemmatized = Pipeline([('vectorizer', LCV), ('tfidf', TfidfTransformer(norm='l2',use_idf=True,smooth_idf=True)),\n",
    "#                                      ('lr',LogisticRegression(C=0.6,penalty='l2',class_weight={0:1,1:1}))])\n",
    "\n",
    "# text_ensemble_lemmatized.fit(claim_tr,label_tr)\n",
    "# predicted=text_ensemble_lemmatized.predict(claim_tst)\n",
    "# #predicted2=text_ensemble_lemmatized.predict(claim)\n",
    "# #predicted3=text_ensemble_lemmatized.predict_proba(claims)[:,1]\n",
    "# predicted4=text_ensemble_lemmatized.predict_proba(claim_tst)[:,1]\n",
    "# predicted6=text_ensemble_lemmatized.predict_proba(claim_tst)\n",
    "\n",
    "# from sklearn.metrics import f1_score,precision_score,recall_score\n",
    "\n",
    "# print(\"F1:\",round(f1_score(label_tst,predicted,average='binary'),3))\n",
    "# print(\"Precision:\",round(precision_score(label_tst,predicted,average='binary'),3))\n",
    "# print(\"Recall:\",round(recall_score(label_tst,predicted,average='binary'),3))\n",
    "# print(\"ROC SCORE=\",round(roc_auc_score(label_tst,predicted4),3))"
   ]
  },
  {
   "cell_type": "code",
   "execution_count": 70,
   "metadata": {
    "ExecuteTime": {
     "end_time": "2019-04-15T20:23:57.660098Z",
     "start_time": "2019-04-15T20:21:57.933659Z"
    }
   },
   "outputs": [
    {
     "name": "stderr",
     "output_type": "stream",
     "text": [
      "/Library/Frameworks/Python.framework/Versions/3.6/lib/python3.6/site-packages/sklearn/linear_model/logistic.py:433: FutureWarning: Default solver will be changed to 'lbfgs' in 0.22. Specify a solver to silence this warning.\n",
      "  FutureWarning)\n"
     ]
    },
    {
     "name": "stdout",
     "output_type": "stream",
     "text": [
      "F1: 0.95\n",
      "Precision: 0.964\n",
      "Recall: 0.935\n",
      "ROC SCORE= 0.988\n"
     ]
    }
   ],
   "source": [
    "import re\n",
    "\n",
    "def words_and_char_bigrams(text):\n",
    "    words = re.findall(r'\\w{4,18}', text)\n",
    "    for w in words:\n",
    "        yield w.lower()\n",
    "\n",
    "LCV=LemmaCountVectorizer(stop_words='english',ngram_range=(1,2),max_df=0.6,min_df=3,max_features=8000)\n",
    "\n",
    "\n",
    "#transformer = Pipeline([('vectorizer', LCV), ('tfidf', TfidfTransformer(norm='l2',use_idf=True,smooth_idf=True))])\n",
    "\n",
    "text_ensemble_lemmatized = Pipeline([('vectorizer', LCV), ('tfidf', TfidfTransformer(norm='l2',use_idf=True,smooth_idf=True)),\n",
    "                                     ('lr',LogisticRegression(C=0.4,penalty='l2',class_weight={0:1,1:3}))])\n",
    "\n",
    "text_ensemble_lemmatized.fit(claim_tr,label_tr)\n",
    "predicted=text_ensemble_lemmatized.predict(claim_tst)\n",
    "#predicted2=text_ensemble_lemmatized.predict(claim)\n",
    "#predicted3=text_ensemble_lemmatized.predict_proba(claims)[:,1]\n",
    "predicted4=text_ensemble_lemmatized.predict_proba(claim_tst)[:,1]\n",
    "predicted6=text_ensemble_lemmatized.predict_proba(claim_tst)\n",
    "\n",
    "from sklearn.metrics import f1_score,precision_score,recall_score\n",
    "\n",
    "print(\"F1:\",round(f1_score(label_tst,predicted,average='binary'),3))\n",
    "print(\"Precision:\",round(precision_score(label_tst,predicted,average='binary'),3))\n",
    "print(\"Recall:\",round(recall_score(label_tst,predicted,average='binary'),3))\n",
    "print(\"ROC SCORE=\",round(roc_auc_score(label_tst,predicted4),3))"
   ]
  },
  {
   "cell_type": "code",
   "execution_count": 108,
   "metadata": {
    "ExecuteTime": {
     "end_time": "2019-04-16T10:23:46.438134Z",
     "start_time": "2019-04-16T10:21:59.350052Z"
    }
   },
   "outputs": [
    {
     "name": "stderr",
     "output_type": "stream",
     "text": [
      "/Library/Frameworks/Python.framework/Versions/3.6/lib/python3.6/site-packages/sklearn/linear_model/logistic.py:433: FutureWarning: Default solver will be changed to 'lbfgs' in 0.22. Specify a solver to silence this warning.\n",
      "  FutureWarning)\n"
     ]
    },
    {
     "name": "stdout",
     "output_type": "stream",
     "text": [
      "F1: 0.942\n",
      "Precision: 0.977\n",
      "Recall: 0.91\n",
      "ROC SCORE= 0.988\n"
     ]
    }
   ],
   "source": [
    "import re\n",
    "\n",
    "def words_and_char_bigrams(text):\n",
    "    words = re.findall(r'\\w{4,18}', text)\n",
    "    for w in words:\n",
    "        yield w.lower()\n",
    "\n",
    "LCV=LemmaCountVectorizer(stop_words='english',ngram_range=(1,2),max_df=0.5,min_df=3,max_features=8000)\n",
    "\n",
    "\n",
    "#transformer = Pipeline([('vectorizer', LCV), ('tfidf', TfidfTransformer(norm='l2',use_idf=True,smooth_idf=True))])\n",
    "\n",
    "text_ensemble_lemmatized = Pipeline([('vectorizer', LCV), ('tfidf', TfidfTransformer(norm='l2',use_idf=True,smooth_idf=True)),\n",
    "                                     ('lr',LogisticRegression(C=0.8,penalty='l2',class_weight={0:1,1:1.6}))])\n",
    "\n",
    "text_ensemble_lemmatized.fit(claim_tr,label_tr)\n",
    "predicted=text_ensemble_lemmatized.predict(claim_tst)\n",
    "#predicted2=text_ensemble_lemmatized.predict(claim)\n",
    "#predicted3=text_ensemble_lemmatized.predict_proba(claims)[:,1]\n",
    "predicted4=text_ensemble_lemmatized.predict_proba(claim_tst)[:,1]\n",
    "predicted6=text_ensemble_lemmatized.predict_proba(claim_tst)\n",
    "\n",
    "from sklearn.metrics import f1_score,precision_score,recall_score\n",
    "\n",
    "print(\"F1:\",round(f1_score(label_tst,predicted,average='binary'),3))\n",
    "print(\"Precision:\",round(precision_score(label_tst,predicted,average='binary'),3))\n",
    "print(\"Recall:\",round(recall_score(label_tst,predicted,average='binary'),3))\n",
    "print(\"ROC SCORE=\",round(roc_auc_score(label_tst,predicted4),3))"
   ]
  },
  {
   "cell_type": "code",
   "execution_count": 109,
   "metadata": {
    "ExecuteTime": {
     "end_time": "2019-04-16T10:23:46.810117Z",
     "start_time": "2019-04-16T10:23:46.443052Z"
    }
   },
   "outputs": [
    {
     "data": {
      "image/png": "[encoded data removed]",
      "text/plain": [
       "<Figure size 432x288 with 1 Axes>"
      ]
     },
     "metadata": {
      "needs_background": "light"
     },
     "output_type": "display_data"
    }
   ],
   "source": [
    "from sklearn.metrics import roc_curve,auc\n",
    "\n",
    "predicted6=predicted6[:,1]\n",
    "\n",
    "\n",
    "# Compute ROC curve and ROC area for each class\n",
    "fpr = dict()\n",
    "tpr = dict()\n",
    "roc_auc = dict()\n",
    "fpr,tpr,_=roc_curve(label_tst, predicted6)\n",
    "\n",
    "from matplotlib import pyplot as plt \n",
    "\n",
    "plt.figure()\n",
    "#plt.plot([0,1],[1,0],'k--')\n",
    "plt.plot(fpr,tpr,label='roc')\n",
    "plt.ylabel('True positive rate')\n",
    "plt.xlabel('False positive rate')\n",
    "plt.title('ROC curve')\n",
    "plt.legend(loc='best')\n",
    "plt.show()"
   ]
  },
  {
   "cell_type": "code",
   "execution_count": 100,
   "metadata": {
    "ExecuteTime": {
     "end_time": "2019-04-16T02:04:51.683131Z",
     "start_time": "2019-04-16T02:04:51.677057Z"
    }
   },
   "outputs": [
    {
     "name": "stdout",
     "output_type": "stream",
     "text": [
      "657 0.9081017149615612\n"
     ]
    }
   ],
   "source": [
    "import operator\n",
    "index,value=max(enumerate(tpr-fpr),key=operator.itemgetter(1))\n",
    "print(index,value)"
   ]
  },
  {
   "cell_type": "code",
   "execution_count": 101,
   "metadata": {
    "ExecuteTime": {
     "end_time": "2019-04-16T02:04:51.698162Z",
     "start_time": "2019-04-16T02:04:51.686502Z"
    }
   },
   "outputs": [
    {
     "data": {
      "text/plain": [
       "0.32745477171367654"
      ]
     },
     "execution_count": 101,
     "metadata": {},
     "output_type": "execute_result"
    }
   ],
   "source": [
    "_[index]"
   ]
  },
  {
   "cell_type": "code",
   "execution_count": 110,
   "metadata": {
    "ExecuteTime": {
     "end_time": "2019-04-16T10:24:47.144646Z",
     "start_time": "2019-04-16T10:23:46.812975Z"
    }
   },
   "outputs": [],
   "source": [
    "abc=pd.DataFrame()\n",
    "\n",
    "pp=text_ensemble_lemmatized.predict_proba(df.all_text)[:,1]\n",
    "predicted=text_ensemble_lemmatized.predict(df.all_text)\n",
    "\n",
    "abc['claim']=df.all_text\n",
    "abc['actual_value']=df.labels\n",
    "abc['predicted_value']=predicted\n",
    "abc['probability']=pp\n",
    "\n",
    "abc.to_csv('prediction_on_haptics1.csv')"
   ]
  },
  {
   "cell_type": "code",
   "execution_count": null,
   "metadata": {},
   "outputs": [],
   "source": []
  },
  {
   "cell_type": "code",
   "execution_count": 76,
   "metadata": {
    "ExecuteTime": {
     "end_time": "2019-04-15T20:26:47.852149Z",
     "start_time": "2019-04-15T20:26:47.838892Z"
    }
   },
   "outputs": [],
   "source": [
    "ab=pd.DataFrame()\n",
    "\n",
    "ab['feature']=pd.Series(text_ensemble_lemmatized.named_steps['vectorizer'].get_feature_names())"
   ]
  },
  {
   "cell_type": "code",
   "execution_count": 77,
   "metadata": {
    "ExecuteTime": {
     "end_time": "2019-04-15T20:26:47.897882Z",
     "start_time": "2019-04-15T20:26:47.856532Z"
    }
   },
   "outputs": [],
   "source": [
    "ab['coef']=pd.Series(text_ensemble_lemmatized.named_steps['lr'].coef_[0])\n",
    "\n",
    "ab.to_csv('feature_coef.csv')"
   ]
  },
  {
   "cell_type": "code",
   "execution_count": 78,
   "metadata": {
    "ExecuteTime": {
     "end_time": "2019-04-15T20:26:47.916936Z",
     "start_time": "2019-04-15T20:26:47.900407Z"
    }
   },
   "outputs": [
    {
     "data": {
      "text/plain": [
       "364029"
      ]
     },
     "execution_count": 78,
     "metadata": {},
     "output_type": "execute_result"
    }
   ],
   "source": [
    "ac=pd.read_csv('description.csv')\n",
    "adc=ac['descriptions'][0]\n",
    "\n",
    "len(adc)"
   ]
  },
  {
   "cell_type": "code",
   "execution_count": 79,
   "metadata": {
    "ExecuteTime": {
     "end_time": "2019-04-15T20:26:47.930253Z",
     "start_time": "2019-04-15T20:26:47.918746Z"
    }
   },
   "outputs": [
    {
     "ename": "NameError",
     "evalue": "name 'split_it' is not defined",
     "output_type": "error",
     "traceback": [
      "\u001b[0;31m---------------------------------------------------------------------------\u001b[0m",
      "\u001b[0;31mNameError\u001b[0m                                 Traceback (most recent call last)",
      "\u001b[0;32m<ipython-input-79-6c236f256851>\u001b[0m in \u001b[0;36m<module>\u001b[0;34m\u001b[0m\n\u001b[0;32m----> 1\u001b[0;31m \u001b[0mac\u001b[0m\u001b[0;34m[\u001b[0m\u001b[0;34m'descriptions'\u001b[0m\u001b[0;34m]\u001b[0m\u001b[0;34m=\u001b[0m\u001b[0mac\u001b[0m\u001b[0;34m[\u001b[0m\u001b[0;34m'descriptions'\u001b[0m\u001b[0;34m]\u001b[0m\u001b[0;34m.\u001b[0m\u001b[0mapply\u001b[0m\u001b[0;34m(\u001b[0m\u001b[0msplit_it\u001b[0m\u001b[0;34m)\u001b[0m\u001b[0;34m\u001b[0m\u001b[0m\n\u001b[0m\u001b[1;32m      2\u001b[0m \u001b[0;34m\u001b[0m\u001b[0m\n\u001b[1;32m      3\u001b[0m \u001b[0madc\u001b[0m\u001b[0;34m=\u001b[0m\u001b[0mac\u001b[0m\u001b[0;34m[\u001b[0m\u001b[0;34m'descriptions'\u001b[0m\u001b[0;34m]\u001b[0m\u001b[0;34m[\u001b[0m\u001b[0;36m0\u001b[0m\u001b[0;34m]\u001b[0m\u001b[0;34m\u001b[0m\u001b[0m\n\u001b[1;32m      4\u001b[0m \u001b[0;34m\u001b[0m\u001b[0m\n\u001b[1;32m      5\u001b[0m \u001b[0mlen\u001b[0m\u001b[0;34m(\u001b[0m\u001b[0madc\u001b[0m\u001b[0;34m)\u001b[0m\u001b[0;34m\u001b[0m\u001b[0m\n",
      "\u001b[0;31mNameError\u001b[0m: name 'split_it' is not defined"
     ]
    }
   ],
   "source": [
    "ac['descriptions']=ac['descriptions'].apply(split_it)\n",
    "\n",
    "adc=ac['descriptions'][0]\n",
    "\n",
    "len(adc)"
   ]
  },
  {
   "cell_type": "code",
   "execution_count": null,
   "metadata": {
    "ExecuteTime": {
     "end_time": "2019-04-15T20:26:47.933857Z",
     "start_time": "2019-04-15T20:20:08.008Z"
    }
   },
   "outputs": [],
   "source": [
    "abc=ac['descriptions'][0]\n",
    "abc=pd.Series(abc)\n",
    "abc.to_csv('abcd.csv')"
   ]
  },
  {
   "cell_type": "code",
   "execution_count": null,
   "metadata": {
    "ExecuteTime": {
     "end_time": "2019-04-15T20:26:47.935968Z",
     "start_time": "2019-04-15T20:20:08.009Z"
    }
   },
   "outputs": [],
   "source": [
    "adc=ac['descriptions'][0]"
   ]
  },
  {
   "cell_type": "code",
   "execution_count": null,
   "metadata": {
    "ExecuteTime": {
     "end_time": "2019-04-15T20:26:47.937917Z",
     "start_time": "2019-04-15T20:20:08.011Z"
    }
   },
   "outputs": [],
   "source": [
    "from bs4 import BeautifulSoup\n",
    "from html import unescape\n",
    "\n",
    "def h(row):\n",
    "\n",
    "    soup = BeautifulSoup(unescape(row['descriptions']), 'lxml')\n",
    "    soup.text\n",
    "    return re.sub(r'\\W+', ' ', soup.text)\n",
    "\n",
    "\n",
    "ac['cleaned']=ac.apply(h,axis=1)"
   ]
  },
  {
   "cell_type": "code",
   "execution_count": null,
   "metadata": {
    "ExecuteTime": {
     "end_time": "2019-04-15T20:26:47.939647Z",
     "start_time": "2019-04-15T20:20:08.012Z"
    }
   },
   "outputs": [],
   "source": [
    "import re\n",
    "ad=soup.text\n",
    "re.sub(r'\\W+', ' ', ad)"
   ]
  },
  {
   "cell_type": "code",
   "execution_count": null,
   "metadata": {},
   "outputs": [],
   "source": []
  },
  {
   "cell_type": "code",
   "execution_count": null,
   "metadata": {
    "ExecuteTime": {
     "end_time": "2019-04-15T20:26:47.941346Z",
     "start_time": "2019-04-15T20:20:08.014Z"
    }
   },
   "outputs": [],
   "source": [
    "ac['all_text']=ac['title'].map(str)+' '+ac['abstract_text'].map(str)+' '+ac['cleaned'].map(str)"
   ]
  },
  {
   "cell_type": "code",
   "execution_count": null,
   "metadata": {
    "ExecuteTime": {
     "end_time": "2019-04-15T20:26:47.942878Z",
     "start_time": "2019-04-15T20:20:08.016Z"
    }
   },
   "outputs": [],
   "source": [
    "ac['all_text']"
   ]
  },
  {
   "cell_type": "code",
   "execution_count": null,
   "metadata": {
    "ExecuteTime": {
     "end_time": "2019-04-15T20:26:47.944318Z",
     "start_time": "2019-04-15T20:20:08.017Z"
    }
   },
   "outputs": [],
   "source": [
    "ac['all_text'][0]"
   ]
  },
  {
   "cell_type": "code",
   "execution_count": 102,
   "metadata": {
    "ExecuteTime": {
     "end_time": "2019-04-16T02:05:42.223159Z",
     "start_time": "2019-04-16T02:05:10.265212Z"
    }
   },
   "outputs": [
    {
     "name": "stdout",
     "output_type": "stream",
     "text": [
      "\n",
      "******** For i = 0.01 ******\n",
      "Our testing fscore is 0.7319712578997488 precision is 0.5772513142623062 recall is 1.0\n",
      "[[ 4526 12384]\n",
      " [    0 16910]]\n",
      "\n",
      "******** For i = 0.05 ******\n"
     ]
    },
    {
     "name": "stderr",
     "output_type": "stream",
     "text": [
      "/Library/Frameworks/Python.framework/Versions/3.6/lib/python3.6/site-packages/ipykernel_launcher.py:13: FutureWarning: Method .as_matrix will be removed in a future version. Use .values instead.\n",
      "  del sys.path[0]\n",
      "/Library/Frameworks/Python.framework/Versions/3.6/lib/python3.6/site-packages/ipykernel_launcher.py:14: FutureWarning: Method .as_matrix will be removed in a future version. Use .values instead.\n",
      "  \n",
      "/Library/Frameworks/Python.framework/Versions/3.6/lib/python3.6/site-packages/ipykernel_launcher.py:16: FutureWarning: Method .as_matrix will be removed in a future version. Use .values instead.\n",
      "  app.launch_new_instance()\n",
      "/Library/Frameworks/Python.framework/Versions/3.6/lib/python3.6/site-packages/ipykernel_launcher.py:17: FutureWarning: Method .as_matrix will be removed in a future version. Use .values instead.\n",
      "/Library/Frameworks/Python.framework/Versions/3.6/lib/python3.6/site-packages/ipykernel_launcher.py:19: FutureWarning: Method .as_matrix will be removed in a future version. Use .values instead.\n",
      "/Library/Frameworks/Python.framework/Versions/3.6/lib/python3.6/site-packages/ipykernel_launcher.py:20: FutureWarning: Method .as_matrix will be removed in a future version. Use .values instead.\n",
      "/Library/Frameworks/Python.framework/Versions/3.6/lib/python3.6/site-packages/ipykernel_launcher.py:23: FutureWarning: Method .as_matrix will be removed in a future version. Use .values instead.\n",
      "/Library/Frameworks/Python.framework/Versions/3.6/lib/python3.6/site-packages/ipykernel_launcher.py:24: FutureWarning: Method .as_matrix will be removed in a future version. Use .values instead.\n"
     ]
    },
    {
     "name": "stdout",
     "output_type": "stream",
     "text": [
      "Our testing fscore is 0.8726363494295983 precision is 0.7797430646062186 recall is 0.9906564163217031\n",
      "[[12178  4732]\n",
      " [  158 16752]]\n",
      "\n",
      "******** For i = 0.25 ******\n",
      "Our testing fscore is 0.9507432751297781 precision is 0.9483935506649406 recall is 0.9531046717918391\n",
      "[[16033   877]\n",
      " [  793 16117]]\n",
      "\n",
      "******** For i = 0.325 ******\n",
      "Our testing fscore is 0.9534516177128374 precision is 0.9616240601503759 recall is 0.9454169130691898\n",
      "[[16272   638]\n",
      " [  923 15987]]\n",
      "\n",
      "******** For i = 0.4 ******\n",
      "Our testing fscore is 0.9493571557916339 precision is 0.9694280078895463 recall is 0.93010053222945\n",
      "[[16414   496]\n",
      " [ 1182 15728]]\n",
      "\n",
      "******** For i = 0.45 ******\n",
      "Our testing fscore is 0.9486736395331211 precision is 0.9733125972006221 recall is 0.9252513305736251\n",
      "[[16481   429]\n",
      " [ 1264 15646]]\n",
      "\n",
      "******** For i = 0.46 ******\n",
      "Our testing fscore is 0.94848052460609 precision is 0.9745461351300767 recall is 0.923772915434654\n",
      "[[16502   408]\n",
      " [ 1289 15621]]\n",
      "\n",
      "******** For i = 0.5 ******\n",
      "Our testing fscore is 0.9423872094091702 precision is 0.9774445644577165 recall is 0.9097575399172088\n",
      "[[16555   355]\n",
      " [ 1526 15384]]\n",
      "\n",
      "******** For i = 0.505 ******\n",
      "Our testing fscore is 0.9415120380309767 precision is 0.9779547626632685 recall is 0.9076877587226493\n",
      "[[16564   346]\n",
      " [ 1561 15349]]\n",
      "\n",
      "******** For i = 0.6 ******\n",
      "Our testing fscore is 0.9274629195940671 precision is 0.9825339067151836 recall is 0.8782377291543465\n",
      "[[16646   264]\n",
      " [ 2059 14851]]\n",
      "\n",
      "******** For i = 0.9 ******\n",
      "Our testing fscore is 0.8217059639389737 precision is 0.9932103939647946 recall is 0.700709639266706\n",
      "[[16829    81]\n",
      " [ 5061 11849]]\n",
      "\n",
      "******** For i = 0.95 ******\n",
      "Our testing fscore is 0.7510131898902069 precision is 0.9960906958561376 recall is 0.6027202838557066\n",
      "[[16870    40]\n",
      " [ 6718 10192]]\n",
      "\n",
      "******** For i = 0.99 ******\n",
      "Our testing fscore is 0.5530131303194902 precision is 0.999072786277237 recall is 0.38231815493790655\n",
      "[[16904     6]\n",
      " [10445  6465]]\n",
      "\n",
      "******** For i = 0.999 ******\n",
      "Our testing fscore is 0.2945744251714401 precision is 0.9996577686516085 recall is 0.17273802483737433\n",
      "[[16909     1]\n",
      " [13989  2921]]\n"
     ]
    }
   ],
   "source": [
    "from sklearn import metrics\n",
    "from sklearn.metrics import fbeta_score,precision_score,f1_score\n",
    "from sklearn.metrics import confusion_matrix\n",
    "from sklearn.model_selection import cross_val_predict\n",
    "\n",
    "pred_proba_df=pd.DataFrame(text_ensemble_lemmatized.predict_proba(claim_tst))\n",
    "\n",
    "threshold_list = [0.01,0.05,0.25,0.325,0.4,0.45,0.46,0.5,0.505,0.60,.9,.95,.99,0.999]\n",
    "\n",
    "for i in threshold_list:\n",
    "    print ('\\n******** For i = {} ******'.format(i))\n",
    "    y_test_pred = pred_proba_df.applymap(lambda x: 1 if x>i else 0)\n",
    "    test_accuracy = metrics.fbeta_score(label_tst.as_matrix().reshape(label_tst.as_matrix().size,1),\n",
    "                                           y_test_pred.iloc[:,1].as_matrix().reshape(y_test_pred.iloc[:,1].as_matrix()\n",
    "                                                                                     .size,1),1)\n",
    "    test_precision = metrics.precision_score(label_tst.as_matrix().reshape(label_tst.as_matrix().size,1),\n",
    "                                           y_test_pred.iloc[:,1].as_matrix().reshape(y_test_pred.iloc[:,1].as_matrix().size,1),1)\n",
    "                                                                                     \n",
    "    test_recall = metrics.recall_score(label_tst.as_matrix().reshape(label_tst.as_matrix().size,1),\n",
    "                                           y_test_pred.iloc[:,1].as_matrix().reshape(y_test_pred.iloc[:,1].as_matrix().size,1),1)                                                                                 \n",
    "    print('Our testing fscore is {}'.format(test_accuracy), 'precision is {}'.format(test_precision),'recall is {}'.format(test_recall))\n",
    "\n",
    "    print(confusion_matrix(label_tst.as_matrix().reshape(label_tst.as_matrix().size,1),\n",
    "                           y_test_pred.iloc[:,1].as_matrix().reshape(y_test_pred.iloc[:,1].as_matrix().size,1)))\n",
    "    \n"
   ]
  },
  {
   "cell_type": "code",
   "execution_count": null,
   "metadata": {},
   "outputs": [],
   "source": []
  },
  {
   "cell_type": "code",
   "execution_count": null,
   "metadata": {},
   "outputs": [],
   "source": []
  }
 ],
 "metadata": {
  "kernelspec": {
   "display_name": "Python 3",
   "language": "python",
   "name": "python3"
  },
  "language_info": {
   "codemirror_mode": {
    "name": "ipython",
    "version": 3
   },
   "file_extension": ".py",
   "mimetype": "text/x-python",
   "name": "python",
   "nbconvert_exporter": "python",
   "pygments_lexer": "ipython3",
   "version": "3.6.5"
  }
 },
 "nbformat": 4,
 "nbformat_minor": 2
}
